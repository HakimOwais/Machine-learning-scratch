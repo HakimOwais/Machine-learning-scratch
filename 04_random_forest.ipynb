{
 "cells": [
  {
   "cell_type": "markdown",
   "metadata": {},
   "source": [
    "## Random Forest\n",
    "Random Forest is an ensemble learning algorithm that builds multiple decision trees and combines their outputs to improve accuracy and reduce overfitting. It is used for both classification and regression tasks.\n",
    "\n",
    "It works by:\n",
    "\n",
    "1. Creating multiple decision trees using different random subsets of the training data (Bootstrap Aggregation or Bagging).\n",
    "2. Selecting a random subset of features at each split to ensure diversity among trees.\n",
    "3. Aggregating the predictions from all trees (majority voting for classification, averaging for regression).\n",
    "\n",
    "### Assumptions\n",
    "1. The dataset has enough diversity so that multiple trees can learn different patterns.\n",
    "2. Relationships between features and target variables can be captured through multiple decision boundaries.\n",
    "3. More trees generally improve performance but come at a computational cost.\n",
    "\n",
    "### Limitations\n",
    "1. Computationally expensive – Training many trees requires more memory and time.\n",
    "2. Less interpretable than a single decision tree.\n",
    "3. Prone to overfitting with noisy data if the number of trees is too large.\n",
    "4. Not ideal for extremely high-dimensional data (may require feature selection).\n",
    "### When to use?\n",
    "1. High accuracy – When improving predictive performance is the priority.\n",
    "2. Handling missing data – Can work well even with missing values.\n",
    "3. Large datasets – Works effectively with large datasets with many features.\n",
    "4. Reducing overfitting – More robust than a single decision tree, making it suitable for complex problems."
   ]
  },
  {
   "cell_type": "code",
   "execution_count": null,
   "metadata": {},
   "outputs": [],
   "source": []
  }
 ],
 "metadata": {
  "kernelspec": {
   "display_name": "loan-prediction",
   "language": "python",
   "name": "python3"
  },
  "language_info": {
   "name": "python",
   "version": "3.10.16"
  }
 },
 "nbformat": 4,
 "nbformat_minor": 2
}
