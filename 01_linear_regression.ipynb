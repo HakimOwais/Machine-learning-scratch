{
 "cells": [
  {
   "cell_type": "markdown",
   "metadata": {},
   "source": [
    "## Linear Regression\n",
    "Linear regression is a statistical method used for modeling the relationship between a dependent variable Y and one or more independent variable X.\n",
    "\n",
    "### Assumptions\n",
    "1. Linearity\n",
    "2. Independence: Observations are independent of each other.\n",
    "3. Homoscedasticity: Constant variance of residuals.\n",
    "4. Number of Residuals\n",
    "5. No Multicollinearity: Independent variables should not be highly correlated with each other.\n",
    "\n",
    "### Limitations\n",
    "1. Linear relationship\n",
    "2. Sensitive to outliers\n",
    "3. Multicollinearity can lead to msleading interpretations of coefficients."
   ]
  },
  {
   "cell_type": "code",
   "execution_count": 4,
   "metadata": {},
   "outputs": [],
   "source": [
    "# Pseudo Code\n",
    "# Linear regression eqn: y = AX + b, A is matrix of coefficients. b is bias or intercept\n",
    "# initialize the class with coefficients and intercept \n",
    "# y dependent variable\n",
    "# bias term b or intercept\n",
    "# weights a1, a2, a3, ... or coef\n",
    "# final equation y = a1.x1 + a2.x2 + ... + an.xn + b "
   ]
  },
  {
   "cell_type": "code",
   "execution_count": 5,
   "metadata": {},
   "outputs": [],
   "source": [
    "#Function fit(X, y):\n",
    "    # Add a bias term (column of ones) to X\n",
    "    # Compute coefficients using:\n",
    "        # θ = (X^T * X)^(-1) * X^T * y\n",
    "    # Set intercept as first value of θ\n",
    "    # Set coefficients as the remaining values of θ\n",
    "# End Function\n",
    "\n",
    "# Function predict(X):\n",
    "    # Add a bias term (column of ones) to X\n",
    "    # Return X * θ (predicted values)\n",
    "# End Function\n"
   ]
  },
  {
   "cell_type": "code",
   "execution_count": 8,
   "metadata": {},
   "outputs": [],
   "source": [
    "import numpy as np"
   ]
  },
  {
   "cell_type": "code",
   "execution_count": 9,
   "metadata": {},
   "outputs": [],
   "source": [
    "# Linear Regression using Normal Equation: theta = (X^T.X)^(-1).X^T.y\n",
    "\n",
    "class CustomLinearRegression:\n",
    "    def __init__(self):\n",
    "        self.coeff_ = None\n",
    "        self.intercept_ = None\n",
    "\n",
    "    def fit(self, X, y):\n",
    "        # Adding a bias term i.e. column of ones [1,1,1, ...]\n",
    "        # Before: X = [[1], [2], [3]]\n",
    "        # After:  X = [[1, 1], [1, 2], [1, 3]]\n",
    "        # np.c_ is used for column-wise concatenation of arrays.\n",
    "        X = np.c_[np.ones(X.shape[0]), X] \n",
    "\n",
    "        # Computing the regression coefficient using Normal Equation\n",
    "        # Normal Eqn: theta = (X^T.X)^(-1).X^T.y\n",
    "        # @ indicates matrix multiplication\n",
    "        theta = np.linalg.inv(X.T @ X) @ X.T @ y \n",
    "\n",
    "        # Extracting intercept and coefficients\n",
    "        self.intercept_ = theta[0]\n",
    "        self.coeff_ = theta[1:]\n",
    "    \n",
    "    # Making prediction\n",
    "    def predict(self, X):\n",
    "        # Adding bias term\n",
    "        X = np.c_[np.ones(X.shape[0]), X]\n",
    "        # Returning predictions\n",
    "        # np.r_ is used for row-wise concatenation of arrays.\n",
    "        return X @ np.r_[self.intercept_, self.coeff_] \n",
    "\n"
   ]
  },
  {
   "cell_type": "code",
   "execution_count": 10,
   "metadata": {},
   "outputs": [],
   "source": [
    "# Example usage\n",
    "X = np.array([[1], [2], [3], [4], [5]])  # Feature\n",
    "y = np.array([2, 4, 6, 8, 10])  # Target (y = 2x)\n"
   ]
  },
  {
   "cell_type": "code",
   "execution_count": 11,
   "metadata": {},
   "outputs": [
    {
     "name": "stdout",
     "output_type": "stream",
     "text": [
      "Predictions: [12. 14.]\n"
     ]
    }
   ],
   "source": [
    "\n",
    "model = CustomLinearRegression()\n",
    "model.fit(X, y)\n",
    "predictions = model.predict(np.array([[6], [7]]))\n",
    "print(\"Predictions:\", predictions)"
   ]
  },
  {
   "cell_type": "code",
   "execution_count": 12,
   "metadata": {},
   "outputs": [],
   "source": [
    "# Function fit(X, y, learning_rate, epochs):\n",
    "    # Add a bias term (column of ones) to X\n",
    "    # Initialize weights (θ) with zeros\n",
    "    # Set number of samples (m)\n",
    "\n",
    "    # For i in range(epochs):\n",
    "        # Get the number of data samples and features.\n",
    "        # Compute predictions using the current weights and bias.\n",
    "        # Calculate errors (difference between actual values and predictions).\n",
    "        # Compute gradients for weights and bias using the derivatives of the loss function.\n",
    "        # Update weights and bias by subtracting the product of the learning rate and gradients.\n",
    "        # End Function\n",
    "\n",
    "# Function predict(X):\n",
    "    # Add a bias term (column of ones) to X\n",
    "    # Use the learned weights and bias to make predictions for new input data.\n",
    "# End Function\n"
   ]
  },
  {
   "cell_type": "code",
   "execution_count": 13,
   "metadata": {},
   "outputs": [],
   "source": [
    "# Using Gradient Descent\n",
    "class LinearRegressionGD:\n",
    "    def __init__(self, learning_rate=0.01, epochs=1000):\n",
    "        self.learning_rate = learning_rate\n",
    "        self.epochs = epochs\n",
    "        self.coef_ = None\n",
    "        self.intercept_ = None\n",
    "\n",
    "    def fit(self, X, y):\n",
    "\n",
    "        n_samples, n_features = X.shape\n",
    "        self.coef_ = np.zeros(n_features)\n",
    "        self.intercept_ = 0\n",
    "\n",
    "        for _ in range(self.epochs):\n",
    "            y_pred = np.dot(X, self.coef_) + self.intercept_\n",
    "\n",
    "            dw = (1/n_samples) * np.dot(X.T, (y_pred - y))\n",
    "            db = (1/n_samples) * np.sum(y_pred - y)\n",
    "\n",
    "            self.coef_ = self.coef_ - self.learning_rate * dw\n",
    "            self.intercept_ = self.intercept_ - self.learning_rate * db\n",
    "\n",
    "\n",
    "    def predict(self, X):\n",
    "        y_pred = np.dot(X, self.coef_) + self.intercept_\n",
    "        return y_pred\n"
   ]
  },
  {
   "cell_type": "code",
   "execution_count": 14,
   "metadata": {},
   "outputs": [
    {
     "name": "stdout",
     "output_type": "stream",
     "text": [
      "Predictions: [11.93728249 13.91103737]\n"
     ]
    }
   ],
   "source": [
    "\n",
    "# Example usage\n",
    "model = LinearRegressionGD()\n",
    "model.fit(X, y)\n",
    "predictions = model.predict(np.array([[6], [7]]))\n",
    "print(\"Predictions:\", predictions)"
   ]
  },
  {
   "cell_type": "code",
   "execution_count": null,
   "metadata": {},
   "outputs": [],
   "source": []
  },
  {
   "cell_type": "code",
   "execution_count": 19,
   "metadata": {},
   "outputs": [
    {
     "data": {
      "image/png": "[encoded data removed]",
      "text/plain": [
       "<Figure size 800x600 with 1 Axes>"
      ]
     },
     "metadata": {},
     "output_type": "display_data"
    },
    {
     "name": "stdout",
     "output_type": "stream",
     "text": [
      "305.7719958301902\n"
     ]
    },
    {
     "data": {
      "image/png": "[encoded data removed]",
      "text/plain": [
       "<Figure size 800x600 with 1 Axes>"
      ]
     },
     "metadata": {},
     "output_type": "display_data"
    }
   ],
   "source": [
    "# Test on scikit learn datasets\n",
    "\n",
    "import numpy as np\n",
    "from sklearn.model_selection import train_test_split\n",
    "from sklearn import datasets\n",
    "import matplotlib.pyplot as plt\n",
    "\n",
    "X, y = datasets.make_regression(n_samples=100, n_features=1, noise=20, random_state=4)\n",
    "X_train, X_test, y_train, y_test = train_test_split(X, y, test_size=0.2, random_state=1234)\n",
    "\n",
    "fig = plt.figure(figsize=(8,6))\n",
    "plt.scatter(X[:, 0], y, color = \"b\", marker = \"o\", s = 30)\n",
    "plt.show()\n",
    "\n",
    "reg = LinearRegressionGD(learning_rate=0.01)\n",
    "reg.fit(X_train,y_train)\n",
    "predictions = reg.predict(X_test)\n",
    "\n",
    "def mse(y_test, predictions):\n",
    "    return np.mean((y_test-predictions)**2)\n",
    "\n",
    "mse = mse(y_test, predictions)\n",
    "print(mse)\n",
    "\n",
    "y_pred_line = reg.predict(X)\n",
    "cmap = plt.get_cmap('viridis')\n",
    "fig = plt.figure(figsize=(8,6))\n",
    "m1 = plt.scatter(X_train, y_train, color=cmap(0.9), s=10)\n",
    "m2 = plt.scatter(X_test, y_test, color=cmap(0.5), s=10)\n",
    "plt.plot(X, y_pred_line, color='black', linewidth=2, label='Prediction')\n",
    "plt.show()"
   ]
  },
  {
   "cell_type": "code",
   "execution_count": null,
   "metadata": {},
   "outputs": [],
   "source": []
  }
 ],
 "metadata": {
  "kernelspec": {
   "display_name": "loan-prediction",
   "language": "python",
   "name": "python3"
  },
  "language_info": {
   "codemirror_mode": {
    "name": "ipython",
    "version": 3
   },
   "file_extension": ".py",
   "mimetype": "text/x-python",
   "name": "python",
   "nbconvert_exporter": "python",
   "pygments_lexer": "ipython3",
   "version": "3.10.16"
  }
 },
 "nbformat": 4,
 "nbformat_minor": 2
}
