{
 "cells": [
  {
   "cell_type": "markdown",
   "metadata": {},
   "source": [
    "## Linear Regression\n",
    "Linear regression is a statistical method used for modeling the relationship between a dependent variable Y and one or more independent variable X.\n",
    "\n",
    "### Assumptions\n",
    "1. Linearity\n",
    "2. Independence: Observations are independent of each other.\n",
    "3. Homoscedasticity: Constant variance of residuals.\n",
    "4. Number of Residuals\n",
    "5. No Multicollinearity: Independent variables should not be highly correlated with each other.\n",
    "\n",
    "### Limitations\n",
    "1. Linear relationship\n",
    "2. Sensitive to outliers\n",
    "3. Multicollinearity can lead to msleading interpretations of coefficients."
   ]
  },
  {
   "cell_type": "code",
   "execution_count": 14,
   "metadata": {},
   "outputs": [],
   "source": [
    "# Pseudo Code\n",
    "# Linear regression eqn: y = AX + b, A is matrix of coefficients. b is bias or intercept\n",
    "# initialize the class with coefficients and intercept \n",
    "# y dependent variable\n",
    "# bias term b or intercept\n",
    "# weights a1, a2, a3, ... or coef\n",
    "# final equation y = a1.x1 + a2.x2 + ... + an.xn + b "
   ]
  },
  {
   "cell_type": "code",
   "execution_count": 15,
   "metadata": {},
   "outputs": [],
   "source": [
    "#Function fit(X, y):\n",
    "    # Add a bias term (column of ones) to X\n",
    "    # Compute coefficients using:\n",
    "        # θ = (X^T * X)^(-1) * X^T * y\n",
    "    # Set intercept as first value of θ\n",
    "    # Set coefficients as the remaining values of θ\n",
    "# End Function\n",
    "\n",
    "# Function predict(X):\n",
    "    # Add a bias term (column of ones) to X\n",
    "    # Return X * θ (predicted values)\n",
    "# End Function\n"
   ]
  },
  {
   "cell_type": "code",
   "execution_count": 16,
   "metadata": {},
   "outputs": [],
   "source": [
    "import numpy as np"
   ]
  },
  {
   "cell_type": "code",
   "execution_count": 17,
   "metadata": {},
   "outputs": [],
   "source": [
    "# Linear Regression using Normal Equation: theta = (X^T.X)^(-1).X^T.y\n",
    "\n",
    "class CustomLinearRegression:\n",
    "    def __init__(self):\n",
    "        self.coeff_ = None\n",
    "        self.intercept_ = None\n",
    "\n",
    "    def fit(self, X, y):\n",
    "        # Adding a bias term i.e. column of ones [1,1,1, ...]\n",
    "        # Before: X = [[1], [2], [3]]\n",
    "        # After:  X = [[1, 1], [1, 2], [1, 3]]\n",
    "        X = np.c_[np.ones(X.shape[0]), X] \n",
    "\n",
    "        # Computing the regression coefficient using Normal Equation\n",
    "        # Normal Eqn: theta = (X^T.X)^(-1).X^T.y\n",
    "        # @ indicates matrix multiplication\n",
    "        theta = np.linalg.inv(X.T @ X) @ X.T @ y \n",
    "\n",
    "        # Extracting intercept and coefficients\n",
    "        self.intercept_ = theta[0]\n",
    "        self.coeff_ = theta[1:]\n",
    "    \n",
    "    # Making prediction\n",
    "    def predict(self, X):\n",
    "        # Adding bias term\n",
    "        X = np.c_[np.ones(X.shape[0]), X]\n",
    "        # Returning predictions\n",
    "        return X @ np.r_[self.intercept_, self.coeff_]\n",
    "\n"
   ]
  },
  {
   "cell_type": "code",
   "execution_count": 18,
   "metadata": {},
   "outputs": [],
   "source": [
    "# Example usage\n",
    "X = np.array([[1], [2], [3], [4], [5]])  # Feature\n",
    "y = np.array([2, 4, 6, 8, 10])  # Target (y = 2x)\n"
   ]
  },
  {
   "cell_type": "code",
   "execution_count": 19,
   "metadata": {},
   "outputs": [
    {
     "name": "stdout",
     "output_type": "stream",
     "text": [
      "Predictions: [12. 14.]\n"
     ]
    }
   ],
   "source": [
    "\n",
    "model = CustomLinearRegression()\n",
    "model.fit(X, y)\n",
    "predictions = model.predict(np.array([[6], [7]]))\n",
    "print(\"Predictions:\", predictions)"
   ]
  },
  {
   "cell_type": "code",
   "execution_count": 20,
   "metadata": {},
   "outputs": [],
   "source": [
    "# Function fit(X, y, learning_rate, epochs):\n",
    "    # Add a bias term (column of ones) to X\n",
    "    # Initialize weights (θ) with zeros\n",
    "    # Set number of samples (m)\n",
    "\n",
    "    # For i in range(epochs):\n",
    "        # Compute predictions: y_pred = X * θ\n",
    "        # Compute error: error = y_pred - y\n",
    "        # Compute gradients: gradient = (1/m) * (X^T * error)\n",
    "        # Update weights: θ = θ - learning_rate * gradient\n",
    "    # End For\n",
    "\n",
    "    # Set intercept as first value of θ\n",
    "    # Set coefficients as the remaining values of θ\n",
    "# End Function\n",
    "\n",
    "# Function predict(X):\n",
    "    # Add a bias term (column of ones) to X\n",
    "    # Return X * θ (predicted values)\n",
    "# End Function\n"
   ]
  },
  {
   "cell_type": "code",
   "execution_count": 21,
   "metadata": {},
   "outputs": [],
   "source": [
    "# Using Gradient Descent\n",
    "class LinearRegressionGD:\n",
    "    def __init__(self, learning_rate=0.01, epochs=1000):\n",
    "        self.learning_rate = learning_rate\n",
    "        self.epochs = epochs\n",
    "        self.coef_ = None\n",
    "        self.intercept_ = None\n",
    "\n",
    "    def fit(self, X, y):\n",
    "        # Add bias term\n",
    "        X = np.c_[np.ones(X.shape[0]), X]\n",
    "        # Initialize weights\n",
    "        theta = np.zeros(X.shape[1])  \n",
    "\n",
    "        # Number of Samples\n",
    "        m = len(y)\n",
    "\n",
    "        for _ in range(self.epochs):\n",
    "            #Compute gradients\n",
    "            gradients = (1/m) * X.T @ (X @ theta - y)\n",
    "            # Update weights\n",
    "            theta -= self.learning_rate * gradients\n",
    "\n",
    "        self.intercept_ = theta[0]\n",
    "        self.coef_ = theta[1:]\n",
    "\n",
    "    def predict(self, X):\n",
    "        X = np.c_[np.ones(X.shape[0]), X]\n",
    "        return X @ np.r_[self.intercept_, self.coef_]\n"
   ]
  },
  {
   "cell_type": "code",
   "execution_count": 22,
   "metadata": {},
   "outputs": [
    {
     "name": "stdout",
     "output_type": "stream",
     "text": [
      "Predictions: [11.93728249 13.91103737]\n"
     ]
    }
   ],
   "source": [
    "\n",
    "# Example usage\n",
    "model = LinearRegressionGD()\n",
    "model.fit(X, y)\n",
    "predictions = model.predict(np.array([[6], [7]]))\n",
    "print(\"Predictions:\", predictions)"
   ]
  },
  {
   "cell_type": "code",
   "execution_count": null,
   "metadata": {},
   "outputs": [],
   "source": []
  }
 ],
 "metadata": {
  "kernelspec": {
   "display_name": "Python 3",
   "language": "python",
   "name": "python3"
  },
  "language_info": {
   "codemirror_mode": {
    "name": "ipython",
    "version": 3
   },
   "file_extension": ".py",
   "mimetype": "text/x-python",
   "name": "python",
   "nbconvert_exporter": "python",
   "pygments_lexer": "ipython3",
   "version": "3.10.11"
  }
 },
 "nbformat": 4,
 "nbformat_minor": 2
}
