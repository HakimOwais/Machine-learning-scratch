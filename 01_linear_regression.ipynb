{
 "cells": [
  {
   "cell_type": "markdown",
   "metadata": {},
   "source": [
    "## Linear Regression\n",
    "Linear regression is a statistical method used for modeling the relationship between a dependent variable Y and one or more independent variable X.\n",
    "\n",
    "### Assumptions\n",
    "1. Linearity\n",
    "2. Independence: Observations are independent of each other.\n",
    "3. Homoscedasticity: Constant variance of residuals.\n",
    "4. Number of Residuals\n",
    "5. No Multicollinearity: Independent variables should not be highly correlated with each other.\n",
    "\n",
    "### Limitations\n",
    "1. Linear relationship\n",
    "2. Sensitive to outliers\n",
    "3. Multicollinearity can lead to msleading interpretations of coefficients."
   ]
  },
  {
   "cell_type": "code",
   "execution_count": 1,
   "metadata": {},
   "outputs": [],
   "source": [
    "# Pseudo Code\n",
    "# Linear regression eqn: y = AX + b, A is matrix of coefficients. b is bias or intercept\n",
    "# initialize the class with coefficients and intercept \n",
    "# y dependent variable\n",
    "# bias term b or intercept\n",
    "# weights a1, a2, a3, ... or coef\n",
    "# final equation y = a1.x1 + a2.x2 + ... + an.xn + b "
   ]
  },
  {
   "cell_type": "code",
   "execution_count": 2,
   "metadata": {},
   "outputs": [],
   "source": [
    "import numpy as np"
   ]
  },
  {
   "cell_type": "code",
   "execution_count": 4,
   "metadata": {},
   "outputs": [],
   "source": [
    "class CustomLinearRegression:\n",
    "    def __init__(self):\n",
    "        self.coeff_ = None\n",
    "        self.intercept_ = None\n",
    "\n",
    "    def fit(self, X, y):\n",
    "        # Adding a bias term i.e. column of ones [1,1,1, ...]\n",
    "        # Before: X = [[1], [2], [3]]\n",
    "        # After:  X = [[1, 1], [1, 2], [1, 3]]\n",
    "        X = np.c_[np.ones(X.shape[0]), X] \n",
    "\n",
    "        # Computing the regression coefficient using Normal Equation\n",
    "        # Normal Eqn: theta = (X^T.X)^(-1).X^T.y\n",
    "        # @ indicates matrix multiplication\n",
    "        theta = np.linalg.inv(X.T @ X) @ X.T @ y \n",
    "\n",
    "        # Extracting intercept and coefficients\n",
    "        self.intercept_ = theta[0]\n",
    "        self.coeff_ = theta[1:]\n",
    "    \n",
    "    # Making prediction\n",
    "    def predict(self, X):\n",
    "        # Adding bias term\n",
    "        X = np.c_[np.ones(X.shape[0]), X]\n",
    "        # Returning predictions\n",
    "        return X @ np.r_[self.intercept_, self.coeff_]\n",
    "\n"
   ]
  },
  {
   "cell_type": "code",
   "execution_count": 5,
   "metadata": {},
   "outputs": [],
   "source": [
    "# Example usage\n",
    "X = np.array([[1], [2], [3], [4], [5]])  # Feature\n",
    "y = np.array([2, 4, 6, 8, 10])  # Target (y = 2x)\n"
   ]
  },
  {
   "cell_type": "code",
   "execution_count": 6,
   "metadata": {},
   "outputs": [
    {
     "name": "stdout",
     "output_type": "stream",
     "text": [
      "Predictions: [12. 14.]\n"
     ]
    }
   ],
   "source": [
    "\n",
    "model = CustomLinearRegression()\n",
    "model.fit(X, y)\n",
    "predictions = model.predict(np.array([[6], [7]]))\n",
    "print(\"Predictions:\", predictions)"
   ]
  },
  {
   "cell_type": "code",
   "execution_count": null,
   "metadata": {},
   "outputs": [],
   "source": []
  }
 ],
 "metadata": {
  "kernelspec": {
   "display_name": "Python 3",
   "language": "python",
   "name": "python3"
  },
  "language_info": {
   "codemirror_mode": {
    "name": "ipython",
    "version": 3
   },
   "file_extension": ".py",
   "mimetype": "text/x-python",
   "name": "python",
   "nbconvert_exporter": "python",
   "pygments_lexer": "ipython3",
   "version": "3.10.11"
  }
 },
 "nbformat": 4,
 "nbformat_minor": 2
}
