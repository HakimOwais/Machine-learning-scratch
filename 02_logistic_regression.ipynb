{
 "cells": [
  {
   "cell_type": "markdown",
   "metadata": {},
   "source": [
    "## Logistic Regression\n",
    "Logistic Regression is a statistical method used for binary classification problems, where the goal is to predict the probability of an outcome that can take one of two possible values (yes/no or 0/1).\n",
    "\n",
    "### Assumptions\n",
    "1. Binary Outcome.\n",
    "2. Independence of Observations (No repeated measures or clustering)\n",
    "3. Linearity of Independent variales and Log Odds (logit). (Can be checked using the Box-Tidwell test or by plotting the log odds against the predictors).\n",
    "4. No Multicollinearity (Can be checked using Variance Inflation Factor)\n",
    "5. Large Sample size\n",
    "6. No Outliers\n",
    "\n",
    "### Limitations\n",
    "1. Linear decision boundary\n",
    "2. Sensitive to irrelevant features\n",
    "3. Overfitting with Too many Predictors\n",
    "4. Assumptions of Independence.\n",
    "5. Limited to Binary or Ordinal Outcomes.\n",
    "6. Interpretability with interaction terms (polynomial terms can make the model harder to interpret)\n",
    "7. Not Suitable for Non-linear Relationships\n",
    "\n",
    "### When to Use Logistic Regression\n",
    "\n",
    "1. When the outcome is binary.\n",
    "2. When interpretability of the model is important.\n",
    "3. When the relationship between predictors and the log odds is approximately linear.\n",
    "4. When the dataset is not too large or complex.\n"
   ]
  },
  {
   "cell_type": "code",
   "execution_count": null,
   "metadata": {},
   "outputs": [],
   "source": [
    "# Pseudo Code \n",
    "# P(Y=1) = 1 / (1 + e^(-z)) , which is a sigmoid function\n",
    "#  where z = a0 + a1x1 + ... + anxn\n"
   ]
  }
 ],
 "metadata": {
  "kernelspec": {
   "display_name": "Python 3",
   "language": "python",
   "name": "python3"
  },
  "language_info": {
   "name": "python",
   "version": "3.10.11"
  }
 },
 "nbformat": 4,
 "nbformat_minor": 2
}
